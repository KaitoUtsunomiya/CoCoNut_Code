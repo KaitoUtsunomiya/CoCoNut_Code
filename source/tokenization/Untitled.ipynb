{
 "cells": [
  {
   "cell_type": "code",
   "execution_count": 2,
   "id": "27a8bca8-2540-4e5e-90ee-fb791e99f953",
   "metadata": {},
   "outputs": [],
   "source": [
    "import os\n",
    "import random\n",
    "import sys\n",
    "import glob"
   ]
  },
  {
   "cell_type": "code",
   "execution_count": 17,
   "id": "a1da24f2-3c56-4e93-95c9-2951ddf326bd",
   "metadata": {},
   "outputs": [],
   "source": [
    "def main_nocontext(init_dir):\n",
    "    \"\"\"\n",
    "    choose the data from _test_remadd.txt, _valid_remadd.txt, _train_remadd.txt\n",
    "    \n",
    "    \"\"\"\n",
    "    path = init_dir + \"/nocontext/train/\"\n",
    "    files = glob.glob(path + '*')\n",
    "\n",
    "    for f in files:\n",
    "        ftitle, fext = os.path.splitext(f)\n",
    "        os.rename(f, ftitle + '_1' + fext)\n",
    "        \n",
    "    test_meta_path = path + '_test_meta.txt'\n",
    "    test_remadd_path = path + '_test_remadd.txt'\n",
    "    valid_meta_path = path + '_valid_meta.txt'\n",
    "    valid_remadd_path = path + '_valid_remadd.txt'\n",
    "    train_meta_path = path + '_train_meta.txt'\n",
    "    train_remadd_path = path + '_train_remadd.txt'\n",
    "    \n",
    "    files = [test_meta_path, test_remadd_path, valid_meta_path,\n",
    "            valid_remadd_path, train_meta_path, train_remadd_path]\n",
    "    files1 = glob.glob(path + '*')\n",
    "    \n",
    "    for i,f in enumerate(files1):\n",
    "        add =[]\n",
    "        with open (f) as org_f:\n",
    "            with open (files[i], 'w') as new_f:\n",
    "                lines1 = org_f.readlines()\n",
    "                if len(lines1) >= 10000:\n",
    "                    for j in range (10000):\n",
    "                        add_line = lines1[j]\n",
    "                        add_line = add_line.replace('\\n', '')\n",
    "                        add.append(add_line)\n",
    "                    new_f.write('\\n'.join(add))\n",
    "                    \n",
    "def main(data_dir, context):\n",
    "    print(\"take 10000 code\")\n",
    "    if context == \"nocontext\":\n",
    "        print(\"nocontext\")\n",
    "        main_nocontext(data_dir)"
   ]
  },
  {
   "cell_type": "code",
   "execution_count": null,
   "id": "f7a09624-8c5a-4744-aa19-46af6960ba28",
   "metadata": {},
   "outputs": [],
   "source": []
  }
 ],
 "metadata": {
  "kernelspec": {
   "display_name": "Python 3",
   "language": "python",
   "name": "python3"
  },
  "language_info": {
   "codemirror_mode": {
    "name": "ipython",
    "version": 3
   },
   "file_extension": ".py",
   "mimetype": "text/x-python",
   "name": "python",
   "nbconvert_exporter": "python",
   "pygments_lexer": "ipython3",
   "version": "3.8.8"
  }
 },
 "nbformat": 4,
 "nbformat_minor": 5
}
