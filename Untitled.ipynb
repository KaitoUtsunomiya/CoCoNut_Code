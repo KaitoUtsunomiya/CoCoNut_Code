{
 "cells": [
  {
   "cell_type": "code",
   "execution_count": 3,
   "id": "0e76e59b-c8b6-4f54-a3a3-bd5a0c5a238c",
   "metadata": {},
   "outputs": [
    {
     "name": "stdout",
     "output_type": "stream",
     "text": [
      "# conda environments:\n",
      "#\n",
      "base                  *  /Users/utsunomiyakaito/opt/anaconda3\n",
      "pytorch                  /Users/utsunomiyakaito/opt/anaconda3/envs/pytorch\n",
      "\n"
     ]
    }
   ],
   "source": [
    "!conda info -e"
   ]
  },
  {
   "cell_type": "code",
   "execution_count": 7,
   "id": "163416a0-2c40-4543-a49c-7a899a553d14",
   "metadata": {},
   "outputs": [],
   "source": [
    "import torch"
   ]
  },
  {
   "cell_type": "code",
   "execution_count": 1,
   "id": "98948c2b-5af8-43a7-b0f8-703394911b5f",
   "metadata": {},
   "outputs": [
    {
     "name": "stdout",
     "output_type": "stream",
     "text": [
      "Choose data\n",
      "take 10000 code\n",
      "nocontext\n",
      "['./java/2006/nocontext/train/_train_meta.txt', './java/2006/nocontext/train/_train_remadd.txt', './java/2006/nocontext/train/_test_meta.txt', './java/2006/nocontext/train/_test_remadd.txt', './java/2006/nocontext/train/_valid_meta.txt', './java/2006/nocontext/train/_valid_remadd.txt']\n",
      "['./java/2006/nocontext/train/_train_meta_1.txt', './java/2006/nocontext/train/_train_remadd_1.txt', './java/2006/nocontext/train/_test_meta_1.txt', './java/2006/nocontext/train/_test_remadd_1.txt', './java/2006/nocontext/train/_valid_meta_1.txt', './java/2006/nocontext/train/_valid_remadd_1.txt']\n",
      "----------------------\n",
      "./java/2006/nocontext/train/_train_meta_1.txt\n",
      "./java/2006/nocontext/train/_train_meta.txt\n",
      "----------------------\n",
      "----------------------\n",
      "./java/2006/nocontext/train/_train_remadd_1.txt\n",
      "./java/2006/nocontext/train/_train_remadd.txt\n",
      "----------------------\n",
      "----------------------\n",
      "./java/2006/nocontext/train/_test_meta_1.txt\n",
      "./java/2006/nocontext/train/_test_meta.txt\n",
      "----------------------\n",
      "----------------------\n",
      "./java/2006/nocontext/train/_test_remadd_1.txt\n",
      "./java/2006/nocontext/train/_test_remadd.txt\n",
      "----------------------\n",
      "----------------------\n",
      "./java/2006/nocontext/train/_valid_meta_1.txt\n",
      "./java/2006/nocontext/train/_valid_meta.txt\n",
      "----------------------\n",
      "----------------------\n",
      "./java/2006/nocontext/train/_valid_remadd_1.txt\n",
      "./java/2006/nocontext/train/_valid_remadd.txt\n",
      "----------------------\n",
      "End choose data\n"
     ]
    }
   ],
   "source": [
    "!bash tokenize.sh Java2006 ./java/2006 nocontext ./intermediate_repo/java/2006 3"
   ]
  },
  {
   "cell_type": "code",
   "execution_count": 8,
   "id": "67c88dea-5e72-4097-b786-e903df261403",
   "metadata": {},
   "outputs": [
    {
     "name": "stdout",
     "output_type": "stream",
     "text": [
      "3201967\n",
      "10000\n",
      "org | ['51824\\t/local/tlutelli/issta_data/temp/all_java5context/java/2006_temp/2006/51824/079b1a6dceb61fc53151a1fd3d5890df4724b524/TreeAnnotator.java/clean/src/dr/app/tools/TreeAnnotator.java\\n']\n",
      "new | ['51824\\t/local/tlutelli/issta_data/temp/all_java5context/java/2006_temp/2006/51824/079b1a6dceb61fc53151a1fd3d5890df4724b524/TreeAnnotator.java/clean/src/dr/app/tools/TreeAnnotator.java\\n']\n",
      "org | ['12376\\t/local/tlutelli/issta_data/temp/all_java1context/java/2006_temp/2006/12376/a80d67208db8029f3323f99ef005d09358bde48f/JavaAdapter.java/clean/js/rhino/src/org/mozilla/javascript/JavaAdapter.java\\n']\n",
      "new | ['12376\\t/local/tlutelli/issta_data/temp/all_java1context/java/2006_temp/2006/12376/a80d67208db8029f3323f99ef005d09358bde48f/JavaAdapter.java/clean/js/rhino/src/org/mozilla/javascript/JavaAdapter.java\\n']\n",
      "org | ['46145\\t/local/tlutelli/issta_data/temp/all_java4context/java/2006_temp/2006/46145/36d5c0fac7fab48824d3d173032523f6118d0ba1/ERXJSPopUpRelationPicker.java/buggy/Common/Frameworks/ERExtensions/Sources/er/extensions/ERXJSPopUpRelationPicker.java\\n']\n",
      "new | ['46145\\t/local/tlutelli/issta_data/temp/all_java4context/java/2006_temp/2006/46145/36d5c0fac7fab48824d3d173032523f6118d0ba1/ERXJSPopUpRelationPicker.java/buggy/Common/Frameworks/ERExtensions/Sources/er/extensions/ERXJSPopUpRelationPicker.java\\n']\n",
      "org | ['6373\\t/local/tlutelli/issta_data/temp/all_java0context/java/2006_temp/2006/6373/c545807606fa5f31dc3e72abcb797d9e919ac0b7/ElementWildcard.java/buggy/src/org/apache/xerces/validators/common/ElementWildcard.java\\n']\n",
      "new | ['6373\\t/local/tlutelli/issta_data/temp/all_java0context/java/2006_temp/2006/6373/c545807606fa5f31dc3e72abcb797d9e919ac0b7/ElementWildcard.java/buggy/src/org/apache/xerces/validators/common/ElementWildcard.java\\n']\n",
      "org | ['967\\t/local/tlutelli/issta_data/temp/all_java0context/java/2006_temp/2006/967/55c2ef8139608f0f93fb72272ca8300eb9ac663e/SimpleAuthenticator.java/clean/src/net/suberic/pooka/gui/SimpleAuthenticator.java\\n']\n",
      "new | ['967\\t/local/tlutelli/issta_data/temp/all_java0context/java/2006_temp/2006/967/55c2ef8139608f0f93fb72272ca8300eb9ac663e/SimpleAuthenticator.java/clean/src/net/suberic/pooka/gui/SimpleAuthenticator.java\\n']\n",
      "org | ['18648\\t/local/tlutelli/issta_data/temp/all_java1context/java/2006_temp/2006/18648/0f54ea45ad3546f1228aa8bf2be7e6cd94d81241/UnitfileWriter.java/clean/java/de/dfki/lt/mary/unitselection/voiceimport_reorganized/UnitfileWriter.java\\n']\n",
      "new | ['18648\\t/local/tlutelli/issta_data/temp/all_java1context/java/2006_temp/2006/18648/0f54ea45ad3546f1228aa8bf2be7e6cd94d81241/UnitfileWriter.java/clean/java/de/dfki/lt/mary/unitselection/voiceimport_reorganized/UnitfileWriter.java\\n']\n",
      "org | ['2255\\t/local/tlutelli/issta_data/temp/all_java0context/java/2006_temp/2006/2255/2fca2b480d47551d6d48169f6ab1ea41ae8e1c58/GmpTest.java/buggy/test/junit/src/net/sf/gogui/gmp/GmpTest.java\\n']\n",
      "new | ['2255\\t/local/tlutelli/issta_data/temp/all_java0context/java/2006_temp/2006/2255/2fca2b480d47551d6d48169f6ab1ea41ae8e1c58/GmpTest.java/buggy/test/junit/src/net/sf/gogui/gmp/GmpTest.java\\n']\n",
      "org | ['52947\\t/local/tlutelli/issta_data/temp/all_java5context/java/2006_temp/2006/52947/374d17ea4f8f5f5914c5c65d8a4c5a5ce9f4749d/BlockBoxing.java/buggy/src/java/org/xhtmlrenderer/layout/BlockBoxing.java\\n']\n",
      "new | ['52947\\t/local/tlutelli/issta_data/temp/all_java5context/java/2006_temp/2006/52947/374d17ea4f8f5f5914c5c65d8a4c5a5ce9f4749d/BlockBoxing.java/buggy/src/java/org/xhtmlrenderer/layout/BlockBoxing.java\\n']\n",
      "org | ['2776\\t/local/tlutelli/issta_data/temp/all_java0context/java/2006_temp/2006/2776/48b673a4eeae723c90a2ec8a9e48e886212b2109/SVNMerger.java/buggy/javasvn/src/org/tmatesoft/svn/core/internal/wc/SVNMerger.java\\n']\n",
      "new | ['2776\\t/local/tlutelli/issta_data/temp/all_java0context/java/2006_temp/2006/2776/48b673a4eeae723c90a2ec8a9e48e886212b2109/SVNMerger.java/buggy/javasvn/src/org/tmatesoft/svn/core/internal/wc/SVNMerger.java\\n']\n",
      "org | ['6564\\t/local/tlutelli/issta_data/temp/all_java0context/java/2006_temp/2006/6564/0935fc8f37d28588108d4e1be91ce00d79781c9f/NameSpace.java/clean/bsh/NameSpace.java\\n']\n",
      "new | ['6564\\t/local/tlutelli/issta_data/temp/all_java0context/java/2006_temp/2006/6564/0935fc8f37d28588108d4e1be91ce00d79781c9f/NameSpace.java/clean/bsh/NameSpace.java\\n']\n",
      "org | ['8781\\t/local/tlutelli/issta_data/temp/all_java0context/java/2006_temp/2006/8781/cbaf8fbf9eeaf7b9db5163cf0496eea1be5ce141/IMCServiceRMI.java/clean/server/src/imcode/util/IMCServiceRMI.java\\n']\n",
      "new | ['8781\\t/local/tlutelli/issta_data/temp/all_java0context/java/2006_temp/2006/8781/cbaf8fbf9eeaf7b9db5163cf0496eea1be5ce141/IMCServiceRMI.java/clean/server/src/imcode/util/IMCServiceRMI.java\\n']\n",
      "org | ['47678\\t/local/tlutelli/issta_data/temp/all_java4context/java/2006_temp/2006/47678/28ec8d0f53c305460681fe922d064c060141774d/InstallerDBTest.java/clean/opennms-install/src/test/java/org/opennms/install/InstallerDBTest.java\\n']\n",
      "new | ['47678\\t/local/tlutelli/issta_data/temp/all_java4context/java/2006_temp/2006/47678/28ec8d0f53c305460681fe922d064c060141774d/InstallerDBTest.java/clean/opennms-install/src/test/java/org/opennms/install/InstallerDBTest.java\\n']\n",
      "org | ['56627\\t/local/tlutelli/issta_data/temp/all_java5context/java/2006_temp/2006/56627/9378da87650678f40e9b7db2d4f971ff07b930b3/ApplyPatchDialog.java/clean/source/com/intellij/openapi/vcs/changes/patch/ApplyPatchDialog.java\\n']\n",
      "new | ['56627\\t/local/tlutelli/issta_data/temp/all_java5context/java/2006_temp/2006/56627/9378da87650678f40e9b7db2d4f971ff07b930b3/ApplyPatchDialog.java/clean/source/com/intellij/openapi/vcs/changes/patch/ApplyPatchDialog.java\\n']\n",
      "org | ['3699\\t/local/tlutelli/issta_data/temp/all_java0context/java/2006_temp/2006/3699/428abe95b7c1ae241b70556f1e16357d8b6bcb9c/BattleSpriteEditor.java/buggy/src/net/starmen/pkhack/eb/BattleSpriteEditor.java\\n']\n",
      "new | ['3699\\t/local/tlutelli/issta_data/temp/all_java0context/java/2006_temp/2006/3699/428abe95b7c1ae241b70556f1e16357d8b6bcb9c/BattleSpriteEditor.java/buggy/src/net/starmen/pkhack/eb/BattleSpriteEditor.java\\n']\n",
      "org | ['55805\\t/local/tlutelli/issta_data/temp/all_java5context/java/2006_temp/2006/55805/09a4c864bb83fb62a685d497a2df9ce5451376bd/MarkerFilter.java/buggy/bundles/org.eclipse.ui.ide/src/org/eclipse/ui/views/markers/internal/MarkerFilter.java\\n']\n",
      "new | ['55805\\t/local/tlutelli/issta_data/temp/all_java5context/java/2006_temp/2006/55805/09a4c864bb83fb62a685d497a2df9ce5451376bd/MarkerFilter.java/buggy/bundles/org.eclipse.ui.ide/src/org/eclipse/ui/views/markers/internal/MarkerFilter.java\\n']\n",
      "org | ['5431\\t/local/tlutelli/issta_data/temp/all_java0context/java/2006_temp/2006/5431/77c4961f707f19c8c833cff8a5b63b6c240f5712/PreviewFrame.java/clean/gallery_remote/com/gallery/GalleryRemote/PreviewFrame.java\\n']\n",
      "new | ['5431\\t/local/tlutelli/issta_data/temp/all_java0context/java/2006_temp/2006/5431/77c4961f707f19c8c833cff8a5b63b6c240f5712/PreviewFrame.java/clean/gallery_remote/com/gallery/GalleryRemote/PreviewFrame.java\\n']\n",
      "org | ['25465\\t/local/tlutelli/issta_data/temp/all_java2context/java/2006_temp/2006/25465/17f3b13af8c36ce1405febdd9df51a5bb17bd43c/OutageWriter.java/clean/src/services/org/opennms/netmgt/outage/OutageWriter.java\\n']\n",
      "new | ['25465\\t/local/tlutelli/issta_data/temp/all_java2context/java/2006_temp/2006/25465/17f3b13af8c36ce1405febdd9df51a5bb17bd43c/OutageWriter.java/clean/src/services/org/opennms/netmgt/outage/OutageWriter.java\\n']\n",
      "org | ['10715\\t/local/tlutelli/issta_data/temp/all_java1context/java/2006_temp/2006/10715/4936528488d531db002f025459201046da4d89ac/TextUICommandLine.java/buggy/findbugs/src/java/edu/umd/cs/findbugs/TextUICommandLine.java\\n']\n",
      "new | ['10715\\t/local/tlutelli/issta_data/temp/all_java1context/java/2006_temp/2006/10715/4936528488d531db002f025459201046da4d89ac/TextUICommandLine.java/buggy/findbugs/src/java/edu/umd/cs/findbugs/TextUICommandLine.java\\n']\n",
      "org | ['46701\\t/local/tlutelli/issta_data/temp/all_java4context/java/2006_temp/2006/46701/584089dc6e8dd39fef515b612c10040acdedf094/PAVLSortedTree.java/buggy/amibe/src/org/jcae/mesh/amibe/util/PAVLSortedTree.java\\n']\n",
      "new | ['46701\\t/local/tlutelli/issta_data/temp/all_java4context/java/2006_temp/2006/46701/584089dc6e8dd39fef515b612c10040acdedf094/PAVLSortedTree.java/buggy/amibe/src/org/jcae/mesh/amibe/util/PAVLSortedTree.java\\n']\n",
      "org | ['13242\\t/local/tlutelli/issta_data/temp/all_java1context/java/2006_temp/2006/13242/a90899eaab63c0168ef6437b6555c13e623995b5/HttpParser.java/buggy/modules/jetty/src/main/java/org/mortbay/jetty/HttpParser.java\\n']\n",
      "new | ['13242\\t/local/tlutelli/issta_data/temp/all_java1context/java/2006_temp/2006/13242/a90899eaab63c0168ef6437b6555c13e623995b5/HttpParser.java/buggy/modules/jetty/src/main/java/org/mortbay/jetty/HttpParser.java\\n']\n"
     ]
    }
   ],
   "source": [
    "with open('./java/2006/nocontext/train/_train_meta_1.txt') as f1:\n",
    "    with open('./java/2006/nocontext/train/_train_meta.txt') as f2:\n",
    "        lines1 = f1.readlines()\n",
    "        lines2 = f2.readlines()\n",
    "    \n",
    "print(len(lines1))\n",
    "print(len(lines2))\n",
    "for i in range (20):\n",
    "    print('org |',lines1[i:i+1])\n",
    "    print('new |',lines2[i:i+1])"
   ]
  },
  {
   "cell_type": "code",
   "execution_count": 1,
   "id": "e6ce6e77-45e0-4a62-bc91-1d1588832465",
   "metadata": {},
   "outputs": [
    {
     "name": "stdout",
     "output_type": "stream",
     "text": [
      "# conda environments:\n",
      "#\n",
      "base                  *  /Users/utsunomiyakaito/opt/anaconda3\n",
      "pytorch                  /Users/utsunomiyakaito/opt/anaconda3/envs/pytorch\n",
      "\n"
     ]
    }
   ],
   "source": [
    "!conda info -e"
   ]
  },
  {
   "cell_type": "code",
   "execution_count": 1,
   "id": "8ab89517-4f4c-4264-b9b8-ef86614afe08",
   "metadata": {},
   "outputs": [
    {
     "name": "stdout",
     "output_type": "stream",
     "text": [
      "Start training\n",
      "python ./fairseq-context/train.py --save-dir ./intermediate_repo/java/2006/nocontext/trained/fconv_tuned_1 --arch fconv  --max-tokens 1000 --distributed-world-size 1  --log-format json --encoder-embed-dim 353 --decoder-embed-dim 353 --decoder-out-embed-dim 353 --encoder-layers \"[(384,6)] * 8\" --decoder-layers \"[(512,10)] * 5\" --dropout 0.14750324647058333 --share-input-output-embed  --clip-norm 0.3526243918050602 --lr 0.7915283934586732 --skip-invalid-size-inputs-valid-test  --optimizer nag --criterion cross_entropy --momentum 0.5498989114182679 --max-epoch 20 --no-epoch-checkpoints  --min-lr 1e-4   --batch-size 128 ./intermediate_repo/java/2006/nocontext/train/bin | tee ./intermediate_repo/java/2006/nocontext/trained/fconv_tuned_1/log.txt\n",
      "Traceback (most recent call last):\n",
      "  File \"/Users/utsunomiyakaito/Documents/test 2/./fairseq-context/train.py\", line 362, in <module>\n",
      "main\n",
      "Namespace(no_progress_bar=False, log_interval=1000, log_format='json', seed=1, fp16=False, fp16_init_scale=128, fp16_scale_window=None, task='translation', skip_invalid_size_inputs_valid_test=True, max_tokens=1000, max_sentences=128, train_subset='train', valid_subset='valid', max_sentences_valid=128, distributed_world_size=1, distributed_rank=0, distributed_backend='nccl', distributed_init_method=None, distributed_port=-1, device_id=0, ddp_backend='c10d', bucket_cap_mb=150, fix_batches_to_gpus=False, arch='fconv', criterion='cross_entropy', max_epoch=20, max_update=0, clip_norm=0.3526243918050602, sentence_avg=False, update_freq=[1], optimizer='nag', lr=[0.7915283934586732], momentum=0.5498989114182679, weight_decay=0.0, lr_scheduler='reduce_lr_on_plateau', lr_shrink=0.1, min_lr=0.0001, min_loss_scale=0.0001, save_dir='./intermediate_repo/java/2006/nocontext/trained/fconv_tuned_1', restore_file='checkpoint_last.pt', reset_optimizer=False, reset_lr_scheduler=False, optimizer_overrides='{}', save_interval=1, save_interval_updates=0, keep_interval_updates=-1, no_save=False, no_epoch_checkpoints=True, validate_interval=1, data=['./intermediate_repo/java/2006/nocontext/train/bin'], source_lang=None, target_lang=None, raw_text=False, left_pad_source='True', left_pad_target='False', max_source_positions=1024, max_target_positions=1024, upsample_primary=1, use_context=False, encoder_embed_dim=353, decoder_embed_dim=353, decoder_out_embed_dim=353, encoder_layers='[(384,6)] * 8', decoder_layers='[(512,10)] * 5', dropout=0.14750324647058333, share_input_output_embed=True, encoder_embed_path=None, decoder_embed_path=None, decoder_attention='True')\n",
      "    main(args)\n",
      "  File \"/Users/utsunomiyakaito/Documents/test 2/./fairseq-context/train.py\", line 30, in main\n",
      "    raise NotImplementedError('Training on CPU is not supported')\n",
      "NotImplementedError: Training on CPU is not supported\n",
      "End training\n"
     ]
    }
   ],
   "source": [
    "!bash train.sh java_2006.fconv_tuned_1 0"
   ]
  },
  {
   "cell_type": "code",
   "execution_count": null,
   "id": "523ef27c-9e2e-431e-92cc-11996ebc06f2",
   "metadata": {},
   "outputs": [],
   "source": []
  }
 ],
 "metadata": {
  "kernelspec": {
   "display_name": "Python 3",
   "language": "python",
   "name": "python3"
  },
  "language_info": {
   "codemirror_mode": {
    "name": "ipython",
    "version": 3
   },
   "file_extension": ".py",
   "mimetype": "text/x-python",
   "name": "python",
   "nbconvert_exporter": "python",
   "pygments_lexer": "ipython3",
   "version": "3.8.8"
  }
 },
 "nbformat": 4,
 "nbformat_minor": 5
}
