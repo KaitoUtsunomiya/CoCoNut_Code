{
 "cells": [
  {
   "cell_type": "code",
   "execution_count": 2,
   "id": "2bc65446-5c79-44fd-9da0-685a8f6b6924",
   "metadata": {},
   "outputs": [],
   "source": [
    "text = '私 は　元気　です'\n",
    "txt_list = text.split()"
   ]
  },
  {
   "cell_type": "code",
   "execution_count": 4,
   "id": "0555c9ed-91d0-41e2-a045-b2050bfcd550",
   "metadata": {},
   "outputs": [
    {
     "data": {
      "text/plain": [
       "{1: '私', 2: 'は', 3: '元気', 4: 'です'}"
      ]
     },
     "execution_count": 4,
     "metadata": {},
     "output_type": "execute_result"
    }
   ],
   "source": [
    "new = {}\n",
    "for idx, word in enumerate(txt_list):\n",
    "    new[idx+1] = word\n",
    "    \n",
    "new"
   ]
  },
  {
   "cell_type": "code",
   "execution_count": 5,
   "id": "c8d3692b-361e-4be4-8838-042fa6185a81",
   "metadata": {},
   "outputs": [],
   "source": [
    "import joblib\n",
    "\n",
    "def dumpJoblib(fileName, obj):\n",
    "    with open(fileName, mode=\"wb\") as f:\n",
    "        joblib.dump(obj, f, compress=3)\n",
    "        \n",
    "def loadJoblib(fileName):\n",
    "    with open(fileName, mode=\"rb\") as f:\n",
    "        return joblib.load(f)"
   ]
  },
  {
   "cell_type": "code",
   "execution_count": 6,
   "id": "0410fad0-a3fd-493f-b343-a9f4744b9cfe",
   "metadata": {},
   "outputs": [],
   "source": [
    "dumpJoblib('temp.joblib', new)"
   ]
  },
  {
   "cell_type": "code",
   "execution_count": 7,
   "id": "dd5a9010-71ec-4ab2-b197-d20093f671fe",
   "metadata": {},
   "outputs": [
    {
     "data": {
      "text/plain": [
       "{1: '私', 2: 'は', 3: '元気', 4: 'です'}"
      ]
     },
     "execution_count": 7,
     "metadata": {},
     "output_type": "execute_result"
    }
   ],
   "source": [
    "loadJoblib('temp.joblib')"
   ]
  },
  {
   "cell_type": "code",
   "execution_count": 30,
   "id": "29cac480-4ca0-490f-9d97-a4559b29f447",
   "metadata": {},
   "outputs": [
    {
     "name": "stdout",
     "output_type": "stream",
     "text": [
      "3241966\n",
      "3241966\n"
     ]
    }
   ],
   "source": [
    "with open('../../../test/java/2006/rem.txt') as f1:\n",
    "    with open('../../../test/java/2006/add.txt') as f2:\n",
    "        lines1 = f1.readlines()\n",
    "        lines2 = f2.readlines()\n",
    "    \n",
    "print(len(lines1))\n",
    "print(len(lines2))"
   ]
  },
  {
   "cell_type": "code",
   "execution_count": 36,
   "id": "de682835-7c79-426d-a8ae-6bbf200c8bf3",
   "metadata": {},
   "outputs": [
    {
     "name": "stdout",
     "output_type": "stream",
     "text": [
      "bag 0 | ['public synchronized StringBuffer append(char ch) \\n']\n",
      "ans 0 | ['public StringBuffer append(Object obj) \\n']\n",
      "bag 1 | ['ensureCapacity_unsynchronized(count + 1); value[count++] = ch; return this; \\n']\n",
      "ans 1 | ['return append(obj == null ? \"null\" : obj.toString()); \\n']\n"
     ]
    }
   ],
   "source": [
    "for i in range (2):\n",
    "    print('bag',i, '|', lines1[i:i+1])\n",
    "    print('ans',i, '|', lines2[i:i+1])"
   ]
  },
  {
   "cell_type": "code",
   "execution_count": 44,
   "id": "978bd76d-10e5-47e4-abf9-477ced56099c",
   "metadata": {},
   "outputs": [
    {
     "name": "stdout",
     "output_type": "stream",
     "text": [
      "20000\n"
     ]
    }
   ],
   "source": [
    "with open('../../../test/java/2006/nocontext/train/_valid_remadd.txt') as f3:\n",
    "    lines3 = f3.readlines()\n",
    "    \n",
    "print(len(lines3))"
   ]
  },
  {
   "cell_type": "code",
   "execution_count": 45,
   "id": "b3007f67-b983-49d0-b89b-bb4f5b5a30ca",
   "metadata": {},
   "outputs": [
    {
     "name": "stdout",
     "output_type": "stream",
     "text": [
      "['String str = this . wc . get CaMeL Source ( ) ;\\tString str = this . working CaMeL Copies [ 0 ] . get CaMeL Source ( ) ;\\n']\n",
      "['\\tRoller CaMeL Request . get CaMeL Roller CaMeL Request ( ) . set CaMeL Website ( wd . get CaMeL Website ( ) ) ;\\n']\n",
      "['Gallery CaMeL Properties p = request CaMeL Response ( form _ data ) ;\\tGallery CaMeL Properties p = request CaMeL Response ( form _ data , su ) ;\\n']\n",
      "['Fill CaMeL Image CaMeL Render . render CaMeL To CaMeL Style ( border CaMeL Css CaMeL Style , rc , this , window CaMeL Pane , IMAGE _ ID _ BORDER _ LEFT , border . get CaMeL Fill CaMeL Image ( Fill CaMeL Image CaMeL Border . LEFT ) , false ) ; border CaMeL Div CaMeL Element . set CaMeL Attribute ( $STRING$ , border CaMeL Css CaMeL Style . render CaMeL Inline ( ) ) ; window CaMeL Div CaMeL Element . append CaMeL Child ( border CaMeL Div CaMeL Element ) ;\\tFill CaMeL Image CaMeL Render . render CaMeL To CaMeL Style ( border CaMeL Css CaMeL Style , rc , this , window CaMeL Pane , IMAGE _ ID _ BORDER _ LEFT , border . get CaMeL Fill CaMeL Image ( Fill CaMeL Image CaMeL Border . LEFT ) , false ) ; border CaMeL Div CaMeL Element . set CaMeL Attribute ( $STRING$ , border CaMeL Css CaMeL Style . render CaMeL Inline ( ) ) ; window CaMeL Div CaMeL Element . append CaMeL Child ( border CaMeL Div CaMeL Element ) ;\\n']\n",
      "['\\t\\n']\n",
      "['model . set CaMeL Instance CaMeL Document ( pipeline CaMeL Context , 0 , instance CaMeL Document , null , false ) ;\\tmodel . set CaMeL Instance CaMeL Document ( pipeline CaMeL Context , 0 , instance CaMeL Document , null , null , null ) ;\\n']\n",
      "['Assert . assert ( - 1 != native CaMeL Web CaMeL Shell ) ; Assert . assert ( null != native CaMeL Event CaMeL Thread ) ;\\tAssert . assert _ it ( - 1 != native CaMeL Web CaMeL Shell ) ; Assert . assert _ it ( null != native CaMeL Event CaMeL Thread ) ;\\n']\n",
      "['obj , Ruby CaMeL String . new CaMeL String ( runtime , obj . get CaMeL Class ( ) . get CaMeL Name ( ) )\\tobj , runtime . new CaMeL String ( obj . get CaMeL Class ( ) . get CaMeL Name ( ) )\\n']\n",
      "['if ( fi . get CaMeL Folder CaMeL Display CaMeL UI ( ) != null ) return fi . get CaMeL Folder CaMeL Display CaMeL UI ( ) ; Folder CaMeL Display CaMeL UI fw = new Folder CaMeL Internal CaMeL Frame ( fi , get CaMeL Message CaMeL Panel ( ) ) ; return fw ; }\\tif ( fi . get CaMeL Folder CaMeL Display CaMeL UI ( ) != null ) return fi . get CaMeL Folder CaMeL Display CaMeL UI ( ) ; Folder CaMeL Display CaMeL UI fw = new Folder CaMeL Internal CaMeL Frame ( fi , get CaMeL Message CaMeL Panel ( ) ) ; return fw ; }\\n']\n",
      "['bond _ a $NUMBER$ = java . lang . Integer . value CaMeL Of ( property CaMeL Value ) . int CaMeL Value ( ) + 1 ;\\tbond _ a $NUMBER$ = new Integer ( property CaMeL Value ) . int CaMeL Value ( ) ;\\n']\n",
      "['return ( ( int ) obj CaMeL Num ) ;\\treturn space == null ? ( int ) obj CaMeL Num : space . hash CaMeL Code ( ) ^ ( int ) obj CaMeL Num ;\\n']\n",
      "['add CaMeL Byte CaMeL Code ( Byte CaMeL Code . NEW , $STRING$ ) ; add CaMeL Byte CaMeL Code ( Byte CaMeL Code . DUP ) ;\\tcfw . add ( Byte CaMeL Code . NEW , $STRING$ ) ; cfw . add ( Byte CaMeL Code . DUP ) ;\\n']\n",
      "['flocat . set CaMeL Xlink CaMeL Href ( bitstreams [ bits ] . get CaMeL Checksum ( ) ) ;\\tif ( full CaMeL URL ) { flocat . set CaMeL Xlink CaMeL Href ( bitstream CaMeL PID ) ; } else { flocat . set CaMeL Xlink CaMeL Href ( bitstreams [ bits ] . get CaMeL Name ( ) ) ; }\\n']\n",
      "['if ( image != null && ! image . is CaMeL Disposed ( ) ) { image . dispose ( ) ; image = null ; }\\tif ( image != null && ! image . is CaMeL Disposed ( ) ) { image . dispose ( ) ; image = null ; }\\n']\n",
      "['String [ ] pp = { path 1 , io . to CaMeL String ( ) } ; VFS CaMeL Manager . error ( browser , $STRING$ , pp ) ;\\tString [ ] pp = { io . to CaMeL String ( ) } ; VFS CaMeL Manager . error ( browser , path 1 , $STRING$ , pp ) ;\\n']\n",
      "['} else { language = compute CaMeL Language ( C CaMeL Core CaMeL Plugin . CONTENT _ TYPE _ CSOURCE ) ;\\t\\n']\n",
      "['key = sel CaMeL Template . get CaMeL Picture CaMeL Full CaMeL Name ( ) ; img = image CaMeL Map . get ( key ) ;\\tURL url = get CaMeL Preview CaMeL Image CaMeL URL ( handle . get CaMeL File CaMeL Name ( ) , key ) ;\\n']\n",
      "['recursion CaMeL Level ++ ; if ( recursion CaMeL Level > ctx . max CaMeL Recursion CaMeL Level ) throw new Fetch CaMeL Exception ( Fetch CaMeL Exception . TOO _ MUCH _ RECURSION , $STRING$ + recursion CaMeL Level + $STRING$ + ctx . max CaMeL Recursion CaMeL Level ) ; Client CaMeL Key CaMeL Block block ; try { block = ctx . client . get CaMeL Key ( key , local CaMeL Only , ctx . starter CaMeL Client , ctx . cache CaMeL Local CaMeL Requests ) ; } catch ( Low CaMeL Level CaMeL Get CaMeL Exception e ) { switch ( e . code ) { case Low CaMeL Level CaMeL Get CaMeL Exception . DATA _ NOT _ FOUND : throw new Fetch CaMeL Exception ( Fetch CaMeL Exception . DATA _ NOT _ FOUND ) ; case Low CaMeL Level CaMeL Get CaMeL Exception . DATA _ NOT _ FOUND _ IN _ STORE : throw new Fetch CaMeL Exception ( Fetch CaMeL Exception . DATA _ NOT _ FOUND ) ; case Low CaMeL Level CaMeL Get CaMeL Exception . DECODE _ FAILED : throw new Fetch CaMeL Exception ( Fetch CaMeL Exception . BLOCK _ DECODE _ ERROR ) ; case Low CaMeL Level CaMeL Get CaMeL Exception . INTERNAL _ ERROR : throw new Fetch CaMeL Exception ( Fetch CaMeL Exception . INTERNAL _ ERROR ) ; case Low CaMeL Level CaMeL Get CaMeL Exception . REJECTED _ OVERLOAD : throw new Fetch CaMeL Exception ( Fetch CaMeL Exception . REJECTED _ OVERLOAD ) ; case Low CaMeL Level CaMeL Get CaMeL Exception . ROUTE _ NOT _ FOUND : throw new Fetch CaMeL Exception ( Fetch CaMeL Exception . ROUTE _ NOT _ FOUND ) ; case Low CaMeL Level CaMeL Get CaMeL Exception . TRANSFER _ FAILED : throw new Fetch CaMeL Exception ( Fetch CaMeL Exception . TRANSFER _ FAILED ) ; case Low CaMeL Level CaMeL Get CaMeL Exception . VERIFY _ FAILED : throw new Fetch CaMeL Exception ( Fetch CaMeL Exception . BLOCK _ DECODE _ ERROR ) ; default : Logger . error ( this , $STRING$ + e . code ) ; throw new Fetch CaMeL Exception ( Fetch CaMeL Exception . INTERNAL _ ERROR ) ; } } ctx . event CaMeL Producer . produce CaMeL Event ( new Got CaMeL Block CaMeL Event ( key ) ) ; Bucket data ; try { data = block . decode ( ctx . bucket CaMeL Factory , ( int ) ( Math . min ( ctx . max CaMeL Temp CaMeL Length , Integer . MAX _ VALUE ) ) ) ; } catch ( Key CaMeL Decode CaMeL Exception e 1 ) { throw new Fetch CaMeL Exception ( Fetch CaMeL Exception . BLOCK _ DECODE _ ERROR , e 1 . get CaMeL Message ( ) ) ; } catch ( IO CaMeL Exception e ) { Logger . error ( this , $STRING$ + e , e ) ; throw new Fetch CaMeL Exception ( Fetch CaMeL Exception . BUCKET _ ERROR , e ) ; } ctx . event CaMeL Producer . produce CaMeL Event ( new Decoded CaMeL Block CaMeL Event ( key ) ) ; if ( ! block . is CaMeL Metadata ( ) ) { return new Fetch CaMeL Result ( dm , data ) ; } if ( data . size ( ) > ctx . max CaMeL Metadata CaMeL Size ) throw new Fetch CaMeL Exception ( Fetch CaMeL Exception . TOO _ BIG _ METADATA ) ; Metadata metadata ; try { metadata = Metadata . construct ( Bucket CaMeL Tools . to CaMeL Byte CaMeL Array ( data ) ) ; } catch ( IO CaMeL Exception e ) { throw new Fetch CaMeL Exception ( Fetch CaMeL Exception . BUCKET _ ERROR , e ) ; } ctx . event CaMeL Producer . produce CaMeL Event ( new Fetched CaMeL Metadata CaMeL Event ( ) ) ; Fetch CaMeL Result result = run CaMeL Metadata ( dm , recursion CaMeL Level , key , meta CaMeL Strings , metadata , null , key . get CaMeL URI ( ) , dont CaMeL Enter CaMeL Implicit CaMeL Archives , local CaMeL Only ) ; if ( meta CaMeL Strings . is CaMeL Empty ( ) ) return result ; throw new Fetch CaMeL Exception ( Fetch CaMeL Exception . HAS _ MORE _ METASTRINGS ) ;\\treturn real CaMeL Run ( dm , recursion CaMeL Level , key , meta CaMeL Strings , dont CaMeL Enter CaMeL Implicit CaMeL Archives , local CaMeL Only ) ;\\n']\n",
      "['return Attribute CaMeL Package . e CaMeL INSTANCE . get CaMeL Action CaMeL Value ( ) ;\\treturn Attribute CaMeL Package . Literals . ACTION _ VALUE ;\\n']\n",
      "['t = jj _ consume _ token ( YEAR ) ; break ;\\t\\n']\n"
     ]
    }
   ],
   "source": [
    "for i in range (20):\n",
    "    print(lines3[i:i+1])"
   ]
  },
  {
   "cell_type": "code",
   "execution_count": null,
   "id": "081cb064-7999-4474-87d5-df93b03c4105",
   "metadata": {},
   "outputs": [],
   "source": []
  }
 ],
 "metadata": {
  "kernelspec": {
   "display_name": "Python 3",
   "language": "python",
   "name": "python3"
  },
  "language_info": {
   "codemirror_mode": {
    "name": "ipython",
    "version": 3
   },
   "file_extension": ".py",
   "mimetype": "text/x-python",
   "name": "python",
   "nbconvert_exporter": "python",
   "pygments_lexer": "ipython3",
   "version": "3.8.8"
  }
 },
 "nbformat": 4,
 "nbformat_minor": 5
}
